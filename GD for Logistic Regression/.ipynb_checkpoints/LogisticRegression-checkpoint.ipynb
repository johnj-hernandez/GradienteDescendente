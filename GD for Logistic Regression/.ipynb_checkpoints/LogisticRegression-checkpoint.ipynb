{
 "cells": [
  {
   "cell_type": "markdown",
   "metadata": {},
   "source": [
    "# Logistic Regression with Gradient Descent"
   ]
  },
  {
   "cell_type": "markdown",
   "metadata": {},
   "source": [
    "### Integrantes: John Hernandez- Daniel Pajaro"
   ]
  },
  {
   "cell_type": "code",
   "execution_count": 1,
   "metadata": {},
   "outputs": [],
   "source": [
    "import numpy as np "
   ]
  },
  {
   "cell_type": "code",
   "execution_count": 2,
   "metadata": {},
   "outputs": [],
   "source": [
    "def sigmoid(z):\n",
    "    return 1 / (1 + np.exp(-z))\n"
   ]
  },
  {
   "cell_type": "code",
   "execution_count": 3,
   "metadata": {},
   "outputs": [],
   "source": [
    "def getTethasWithGradientD(x,y,t,alpha,iterations):\n",
    "     m=len(y)\n",
    "     for it in range(iterations):\n",
    "         temporal=np.copy(t)\n",
    "         z=np.dot(x,t)\n",
    "         h=sigmoid(z)\n",
    "         for j in range(t.shape[0]):\n",
    "             suma=0\n",
    "             for i in range(m):\n",
    "                 suma=(h[i][0]-y[i])*x[i][j]*(1/m)+suma\n",
    "             temporal[j]=t[j]-alpha*suma      \n",
    "         t=np.copy(temporal)\n",
    "     return t\n",
    "\n"
   ]
  },
  {
   "cell_type": "code",
   "execution_count": 4,
   "metadata": {},
   "outputs": [],
   "source": [
    "#leemos los datos\n",
    "data=np.loadtxt(\"grades_data.txt\",dtype=float,delimiter=\",\")\n"
   ]
  },
  {
   "cell_type": "code",
   "execution_count": 5,
   "metadata": {},
   "outputs": [],
   "source": [
    "#calculamos el numero de datos que representan el 70%\n",
    "p70=int(len(data)*0.7)\n",
    "train=data[:p70,:]\n",
    "test=data[p70:,:]\n",
    "#preparamos los datos de entrenamiento\n",
    "x=np.copy(train[:,0:2])\n",
    "x=np.c_[np.ones(p70),x]\n",
    "y=np.copy(train[:,2])\n",
    "t=np.ones((x.shape[1],1))"
   ]
  },
  {
   "cell_type": "code",
   "execution_count": 12,
   "metadata": {},
   "outputs": [
    {
     "data": {
      "text/plain": [
       "array([0., 1., 1., 1., 1., 1., 1., 1., 0., 0., 1., 1., 1., 1., 1., 1., 0.,\n",
       "       1., 1., 0., 1., 1., 0., 1., 1., 1., 1., 1., 1., 1.])"
      ]
     },
     "execution_count": 12,
     "metadata": {},
     "output_type": "execute_result"
    }
   ],
   "source": [
    "#----------TEST DATA----------------------\n",
    "xt=np.copy(test[:,0:2])\n",
    "xt=np.c_[np.ones(len(test)),xt]\n",
    "yt=np.copy(test[:,2])"
   ]
  },
  {
   "cell_type": "code",
   "execution_count": 7,
   "metadata": {},
   "outputs": [],
   "source": [
    "#probamos la funcion de gradiente descendiente\n",
    "alpha=0.005\n",
    "newTethas=getTethasWithGradientD(x,y,t,alpha,200000)"
   ]
  },
  {
   "cell_type": "code",
   "execution_count": 11,
   "metadata": {},
   "outputs": [
    {
     "name": "stdout",
     "output_type": "stream",
     "text": [
      "alpha:0.005\n",
      "66.0%\n"
     ]
    }
   ],
   "source": [
    "#ya tenemos los tethas ahora obtenemos las predicciones\n",
    "zt=np.dot(xt,newTethas)\n",
    "probabilidades=sigmoid(zt)\n",
    "#convert probabilities into binaries\n",
    "predicciones=np.copy(probabilidades)\n",
    "for i in range(len(probabilidades)):  predicciones[i]=0 if (probabilidades[i]<=0.5) else 1\n",
    "print(\"alpha:\"+str(alpha))\n",
    "#calculamos le porcentaje de aciertos que se obtuvo\n",
    "print(str((predicciones==yt).mean()*100)+\"%\")"
   ]
  },
  {
   "cell_type": "code",
   "execution_count": null,
   "metadata": {},
   "outputs": [],
   "source": []
  },
  {
   "cell_type": "code",
   "execution_count": null,
   "metadata": {},
   "outputs": [],
   "source": []
  }
 ],
 "metadata": {
  "kernelspec": {
   "display_name": "Python 3",
   "language": "python",
   "name": "python3"
  },
  "language_info": {
   "codemirror_mode": {
    "name": "ipython",
    "version": 3
   },
   "file_extension": ".py",
   "mimetype": "text/x-python",
   "name": "python",
   "nbconvert_exporter": "python",
   "pygments_lexer": "ipython3",
   "version": "3.7.1"
  }
 },
 "nbformat": 4,
 "nbformat_minor": 2
}
