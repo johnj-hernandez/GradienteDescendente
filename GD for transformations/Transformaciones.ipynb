{
 "cells": [
  {
   "cell_type": "markdown",
   "metadata": {},
   "source": [
    "# Transformacion polinomial"
   ]
  },
  {
   "cell_type": "markdown",
   "metadata": {},
   "source": [
    "## John Hernandez - Daniel Pajaro"
   ]
  },
  {
   "cell_type": "code",
   "execution_count": 1,
   "metadata": {},
   "outputs": [],
   "source": [
    "import numpy as np "
   ]
  },
  {
   "cell_type": "code",
   "execution_count": 2,
   "metadata": {},
   "outputs": [],
   "source": [
    "def sigmoid(z):\n",
    "    return 1 / (1 + np.exp(-z))"
   ]
  },
  {
   "cell_type": "code",
   "execution_count": 3,
   "metadata": {},
   "outputs": [],
   "source": [
    "def getTethasWithGradientD(x,y,t,alpha,iterations):\n",
    "     m=len(y)\n",
    "     for it in range(iterations):\n",
    "         temporal=np.copy(t)\n",
    "         z=np.dot(x,t)\n",
    "         h=sigmoid(z)\n",
    "         for j in range(t.shape[0]):\n",
    "             suma=0\n",
    "             for i in range(m):\n",
    "                 suma=(h[i][0]-y[i])*x[i][j]*(1/m)+suma\n",
    "             #print(\"Suma: \"+str(suma))\n",
    "             temporal[j]=t[j]-alpha*suma      \n",
    "         t=np.copy(temporal)\n",
    "     return t"
   ]
  },
  {
   "cell_type": "code",
   "execution_count": 4,
   "metadata": {},
   "outputs": [],
   "source": [
    "# leemos los datos\n",
    "data=np.loadtxt(\"grades_data.txt\",dtype=float,delimiter=\",\")"
   ]
  },
  {
   "cell_type": "code",
   "execution_count": 5,
   "metadata": {},
   "outputs": [],
   "source": [
    "#calculamos el numero de datos que representan el 70% y realizamos la particion\n",
    "p70=int(len(data)*0.7)\n",
    "train=data[:p70,:]\n",
    "test=data[p70:,:]"
   ]
  },
  {
   "cell_type": "code",
   "execution_count": 6,
   "metadata": {},
   "outputs": [],
   "source": [
    "#preparamos los datos de entrenamiento\n",
    "x=np.copy(train[:,0:2])\n",
    "x=np.c_[np.ones(p70),x]\n",
    "#agregamos dos columnas mas por que hay 2 features que elevaremos al cuadrado\n",
    "x=np.c_[\n",
    "        x[:,0],        \n",
    "        x[:,1],\n",
    "        x[:,1]*x[:,1],\n",
    "        x[:,2],\n",
    "        x[:,2]*x[:,2]\n",
    "        ]\n",
    "\n",
    "\n",
    "y=np.copy(train[:,2])\n",
    "t=np.ones((x.shape[1],1))\n"
   ]
  },
  {
   "cell_type": "code",
   "execution_count": 7,
   "metadata": {},
   "outputs": [],
   "source": [
    "#----------TEST DATA----------------------\n",
    "xt=np.copy(test[:,0:2])\n",
    "xt=np.c_[np.ones(len(test)),xt]\n",
    "xt=np.c_[\n",
    "        xt[:,0],        \n",
    "        xt[:,1],\n",
    "        xt[:,1]*xt[:,1],\n",
    "        xt[:,2],\n",
    "        xt[:,2]*xt[:,2]\n",
    "        ]\n",
    "yt=np.copy(test[:,2])\n"
   ]
  },
  {
   "cell_type": "code",
   "execution_count": 14,
   "metadata": {},
   "outputs": [],
   "source": [
    "alpha=0.005\n",
    "#probamos la funcion de gradiente descendiente\n",
    "newTethas=getTethasWithGradientD(x,y,t,alpha,200000)"
   ]
  },
  {
   "cell_type": "code",
   "execution_count": 12,
   "metadata": {},
   "outputs": [
    {
     "name": "stdout",
     "output_type": "stream",
     "text": [
      "[[ -31.25672858]\n",
      " [-548.89509333]\n",
      " [   9.29283057]\n",
      " [-671.82836593]\n",
      " [   8.87144891]]\n"
     ]
    }
   ],
   "source": [
    "print(newTethas)"
   ]
  },
  {
   "cell_type": "code",
   "execution_count": 15,
   "metadata": {},
   "outputs": [],
   "source": [
    "#ya tenemos los tethas ahora obtenemos las predicciones comenzando con las probabilidades\n",
    "zt=np.dot(xt,newTethas)\n",
    "probabilidades=sigmoid(zt)"
   ]
  },
  {
   "cell_type": "code",
   "execution_count": 16,
   "metadata": {},
   "outputs": [
    {
     "name": "stdout",
     "output_type": "stream",
     "text": [
      "alpha:0.005\n",
      "0.58\n"
     ]
    }
   ],
   "source": [
    "#convertimos las probabilidades en binarios\n",
    "predicciones=np.copy(probabilidades)\n",
    "for i in range(len(probabilidades)):  predicciones[i]=0 if (probabilidades[i]<=0.5) else 1\n",
    "#predicciones.reshape((len(predicciones)))\n",
    "print(\"alpha:\"+str(alpha))\n",
    "print((predicciones==yt).mean())"
   ]
  },
  {
   "cell_type": "code",
   "execution_count": null,
   "metadata": {},
   "outputs": [],
   "source": []
  }
 ],
 "metadata": {
  "kernelspec": {
   "display_name": "Python 3",
   "language": "python",
   "name": "python3"
  },
  "language_info": {
   "codemirror_mode": {
    "name": "ipython",
    "version": 3
   },
   "file_extension": ".py",
   "mimetype": "text/x-python",
   "name": "python",
   "nbconvert_exporter": "python",
   "pygments_lexer": "ipython3",
   "version": "3.7.1"
  }
 },
 "nbformat": 4,
 "nbformat_minor": 2
}
